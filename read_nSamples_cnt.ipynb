{
 "cells": [
  {
   "cell_type": "code",
   "execution_count": 17,
   "metadata": {},
   "outputs": [],
   "source": [
    "import os\n",
    "import numpy as np\n",
    "import struct\n",
    "\n",
    "def cnt_nsamp(file_name):\n",
    "    \"\"\"This function reads bad channels from a binary CNT file. It returns a list of bad channels.\n",
    "\n",
    "    Parameters:\n",
    "\n",
    "    - **file_name (str)**: The name of the binary CNT file you want to read.\n",
    "    \n",
    "    Returns:\n",
    "\n",
    "    - **bad_chan_list**: A list of bad channels.\n",
    "  \"\"\"\n",
    "    \n",
    "\n",
    "    #Check if file ends with .cnt\n",
    "    if not file_name.endswith('.cnt'):\n",
    "        raise ValueError(\"File must be a binary EEG file (.cnt).\")\n",
    "\n",
    "    if not os.path.isfile(file_name):\n",
    "        raise ValueError(f\"File {file_name} not found.\")\n",
    "\n",
    "\n",
    "    bad_chan_list = []\n",
    "    with open(file_name, 'rb') as f:\n",
    "\n",
    "       f.seek(864)\n",
    "       n_samples = struct.unpack('l', f.read(8))[0]\n",
    "       return n_samples\n"
   ]
  },
  {
   "cell_type": "code",
   "execution_count": 18,
   "metadata": {},
   "outputs": [
    {
     "data": {
      "text/plain": [
       "136820"
      ]
     },
     "execution_count": 18,
     "metadata": {},
     "output_type": "execute_result"
    }
   ],
   "source": [
    "cnt_nsamp('/home/woess/mnt/e/Lifespan/cnt_artrej/50001003_eec_artrej.cnt')"
   ]
  },
  {
   "cell_type": "code",
   "execution_count": 14,
   "metadata": {},
   "outputs": [
    {
     "data": {
      "text/plain": [
       "136820"
      ]
     },
     "execution_count": 14,
     "metadata": {},
     "output_type": "execute_result"
    }
   ],
   "source": [
    "cnt_nsamp('/home/woess/mnt/e/Lifespan/old/Rest_EC/eec_4_l1_50001003_32.cnt')"
   ]
  },
  {
   "cell_type": "code",
   "execution_count": null,
   "metadata": {},
   "outputs": [],
   "source": []
  }
 ],
 "metadata": {
  "kernelspec": {
   "display_name": "mne",
   "language": "python",
   "name": "python3"
  },
  "language_info": {
   "codemirror_mode": {
    "name": "ipython",
    "version": 3
   },
   "file_extension": ".py",
   "mimetype": "text/x-python",
   "name": "python",
   "nbconvert_exporter": "python",
   "pygments_lexer": "ipython3",
   "version": "3.10.10"
  },
  "orig_nbformat": 4
 },
 "nbformat": 4,
 "nbformat_minor": 2
}
